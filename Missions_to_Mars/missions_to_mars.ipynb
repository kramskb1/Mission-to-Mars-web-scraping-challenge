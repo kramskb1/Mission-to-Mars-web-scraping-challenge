{
 "cells": [
  {
   "cell_type": "code",
   "execution_count": 61,
   "metadata": {
    "ExecuteTime": {
     "end_time": "2020-11-24T22:19:29.367408Z",
     "start_time": "2020-11-24T22:19:29.363526Z"
    }
   },
   "outputs": [],
   "source": [
    "from splinter import Browser\n",
    "from bs4 import BeautifulSoup\n",
    "import pandas as pd\n"
   ]
  },
  {
   "cell_type": "code",
   "execution_count": 62,
   "metadata": {
    "ExecuteTime": {
     "end_time": "2020-11-24T22:19:37.371436Z",
     "start_time": "2020-11-24T22:19:30.743395Z"
    }
   },
   "outputs": [],
   "source": [
    "browser=Browser('chrome')\n",
    "mars={}"
   ]
  },
  {
   "cell_type": "code",
   "execution_count": 63,
   "metadata": {
    "ExecuteTime": {
     "end_time": "2020-11-24T22:19:43.678959Z",
     "start_time": "2020-11-24T22:19:37.714041Z"
    }
   },
   "outputs": [],
   "source": [
    "# URL of page to be scraped\n",
    "url = 'https://mars.nasa.gov/news/'\n",
    "browser.visit(url)\n",
    "soup = BeautifulSoup(browser.html,\"html.parser\")\n",
    "results = soup.find_all(\"div\", class_=\"list_text\")\n",
    "#result=result.find_all(\"div\", class_=\"content_title\")\n",
    "title = []\n",
    "paragraph = []\n",
    "\n",
    "for result in results:\n",
    "    title.append(result.find(\"div\", class_=\"content_title\").a.text)\n",
    "    paragraph.append(result.find(\"div\", class_=\"article_teaser_body\").text)\n",
    "#mars[\"news_title\"]=title[0]   \n",
    "#mars[\"news_paragraph\"] = paragraph[0]\n",
    "newstitle=title[0]\n",
    "newsparagraph=paragraph[0]\n",
    "mars[\"news_title\"] = newstitle \n",
    "mars[\"news_paragraph\"] = newsparagraph"
   ]
  },
  {
   "cell_type": "code",
   "execution_count": 64,
   "metadata": {
    "ExecuteTime": {
     "end_time": "2020-11-24T22:19:50.932124Z",
     "start_time": "2020-11-24T22:19:44.427665Z"
    }
   },
   "outputs": [],
   "source": [
    "url = 'https://www.jpl.nasa.gov/spaceimages/?search=&category=Mars'\n",
    "browser.visit(url)\n",
    "browser.find_by_id(\"full_image\").click()\n",
    "browser.find_link_by_partial_text('more info').click()\n",
    "soup = BeautifulSoup(browser.html,\"html.parser\")\n",
    "results = soup.find_all(\"figure\", class_=\"lede\")\n",
    "#results.a.img[\"src\"]\n",
    "link=results[0].a.img[\"src\"]\n",
    "featured_image_url='https://www.jpl.nasa.gov'+link\n",
    "mars[\"featured_image\"] = featured_image_url"
   ]
  },
  {
   "cell_type": "code",
   "execution_count": 65,
   "metadata": {
    "ExecuteTime": {
     "end_time": "2020-11-24T22:19:51.258253Z",
     "start_time": "2020-11-24T22:19:51.237311Z"
    }
   },
   "outputs": [
    {
     "data": {
      "text/plain": [
       "{'news_title': 'MOXIE Could Help Future Rockets Launch Off Mars',\n",
       " 'news_paragraph': \"NASA's Perseverance rover carries a device to convert Martian air into oxygen that, if produced on a larger scale, could be used not just for breathing, but also for fuel.\",\n",
       " 'featured_image': 'https://www.jpl.nasa.gov/spaceimages/images/largesize/PIA19168_hires.jpg'}"
      ]
     },
     "execution_count": 65,
     "metadata": {},
     "output_type": "execute_result"
    }
   ],
   "source": [
    "mars"
   ]
  }
 ],
 "metadata": {
  "kernelspec": {
   "display_name": "Python 3",
   "language": "python",
   "name": "python3"
  },
  "language_info": {
   "codemirror_mode": {
    "name": "ipython",
    "version": 3
   },
   "file_extension": ".py",
   "mimetype": "text/x-python",
   "name": "python",
   "nbconvert_exporter": "python",
   "pygments_lexer": "ipython3",
   "version": "3.8.3"
  },
  "toc": {
   "base_numbering": 1,
   "nav_menu": {},
   "number_sections": true,
   "sideBar": true,
   "skip_h1_title": false,
   "title_cell": "Table of Contents",
   "title_sidebar": "Contents",
   "toc_cell": false,
   "toc_position": {},
   "toc_section_display": true,
   "toc_window_display": false
  },
  "varInspector": {
   "cols": {
    "lenName": 16,
    "lenType": 16,
    "lenVar": 40
   },
   "kernels_config": {
    "python": {
     "delete_cmd_postfix": "",
     "delete_cmd_prefix": "del ",
     "library": "var_list.py",
     "varRefreshCmd": "print(var_dic_list())"
    },
    "r": {
     "delete_cmd_postfix": ") ",
     "delete_cmd_prefix": "rm(",
     "library": "var_list.r",
     "varRefreshCmd": "cat(var_dic_list()) "
    }
   },
   "types_to_exclude": [
    "module",
    "function",
    "builtin_function_or_method",
    "instance",
    "_Feature"
   ],
   "window_display": false
  }
 },
 "nbformat": 4,
 "nbformat_minor": 4
}
